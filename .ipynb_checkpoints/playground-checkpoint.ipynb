{
 "cells": [
  {
   "cell_type": "code",
   "execution_count": null,
   "metadata": {},
   "outputs": [],
   "source": [
    "## hello!"
   ]
  },
  {
   "cell_type": "code",
   "execution_count": 4,
   "metadata": {},
   "outputs": [],
   "source": [
    "from matchRunner import *\n",
    "from player import *\n",
    "from ultimateTicTacToe.ultimateBoardEvaluator import *"
   ]
  },
  {
   "cell_type": "code",
   "execution_count": 6,
   "metadata": {
    "jp-MarkdownHeadingCollapsed": true
   },
   "outputs": [
    {
     "name": "stdout",
     "output_type": "stream",
     "text": [
      "(81, 0)\n"
     ]
    }
   ],
   "source": [
    "e = UltimateBoardEvaluatorFactory.firstEvaluator()\n",
    "\n",
    "playerX = Player(e, True)\n",
    "playerO = Player(e, False)\n",
    "\n",
    "# playAGame(playerX, playerO, None, True)\n",
    "# playAManualGame(playerX)\n",
    "\n",
    "results = playManyGamesAsync(playerX, playerO, 81)\n",
    "print(results)"
   ]
  },
  {
   "cell_type": "code",
   "execution_count": 2,
   "metadata": {},
   "outputs": [
    {
     "name": "stdout",
     "output_type": "stream",
     "text": [
      "81\n"
     ]
    }
   ],
   "source": [
    "input_combinations = [((a, b), (c, d)) for a in range(3) for b in range(3) for c in range(3) for d in range(3)]\n",
    "print(len(input_combinations))"
   ]
  },
  {
   "cell_type": "code",
   "execution_count": null,
   "metadata": {},
   "outputs": [],
   "source": []
  }
 ],
 "metadata": {
  "kernelspec": {
   "display_name": "Python 3 (ipykernel)",
   "language": "python",
   "name": "python3"
  },
  "language_info": {
   "codemirror_mode": {
    "name": "ipython",
    "version": 3
   },
   "file_extension": ".py",
   "mimetype": "text/x-python",
   "name": "python",
   "nbconvert_exporter": "python",
   "pygments_lexer": "ipython3",
   "version": "3.9.6"
  }
 },
 "nbformat": 4,
 "nbformat_minor": 4
}
