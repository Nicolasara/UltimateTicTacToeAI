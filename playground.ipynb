{
 "cells": [
  {
   "cell_type": "code",
   "execution_count": null,
   "metadata": {},
   "outputs": [],
   "source": [
    "## hello!"
   ]
  },
  {
   "cell_type": "code",
   "execution_count": 1,
   "metadata": {},
   "outputs": [],
   "source": [
    "from matchRunner import *\n",
    "from player import *\n",
    "from ultimateTicTacToe.ultimateBoardEvaluator import *"
   ]
  },
  {
   "cell_type": "code",
   "execution_count": 2,
   "metadata": {
    "jp-MarkdownHeadingCollapsed": true
   },
   "outputs": [
    {
     "name": "stdout",
     "output_type": "stream",
     "text": [
      "First move: ((0, 0), (0, 2)) Winner: O\n",
      "First move: ((0, 0), (0, 0)) Winner: O\n",
      "First move: ((0, 0), (0, 1)) Winner: X\n",
      "First move: ((0, 0), (1, 0)) Winner: O\n",
      "First move: ((0, 0), (1, 2)) Winner: O\n",
      "First move: ((0, 0), (1, 1)) Winner: X\n",
      "First move: ((0, 0), (2, 0)) Winner: O\n",
      "First move: ((0, 0), (2, 1)) Winner: O\n",
      "First move: ((0, 1), (0, 0)) Winner: O\n",
      "First move: ((0, 1), (0, 1)) Winner: O\n",
      "First move: ((0, 1), (0, 2)) Winner: O\n",
      "First move: ((0, 0), (2, 2)) Winner: O\n",
      "First move: ((0, 1), (1, 1)) Winner: O\n",
      "First move: ((0, 1), (2, 0)) Winner: O\n",
      "First move: ((0, 1), (1, 0)) Winner: Tie\n",
      "First move: ((0, 1), (1, 2)) Winner: O\n",
      "First move: ((0, 1), (2, 2)) Winner: O\n",
      "First move: ((0, 2), (0, 0)) Winner: O\n",
      "First move: ((0, 1), (2, 1)) Winner: O\n",
      "First move: ((0, 2), (0, 1)) Winner: O\n",
      "First move: ((0, 2), (0, 2)) Winner: O\n",
      "First move: ((0, 2), (1, 0)) Winner: O\n",
      "First move: ((0, 2), (1, 1)) Winner: X\n",
      "First move: ((0, 2), (2, 0)) Winner: O\n",
      "First move: ((0, 2), (1, 2)) Winner: X\n",
      "First move: ((0, 2), (2, 2)) Winner: O\n",
      "First move: ((1, 0), (0, 0)) Winner: O\n",
      "First move: ((0, 2), (2, 1)) Winner: O\n",
      "First move: ((1, 0), (0, 1)) Winner: O\n",
      "First move: ((1, 0), (0, 2)) Winner: O\n",
      "First move: ((1, 0), (1, 0)) Winner: O\n",
      "First move: ((1, 0), (1, 1)) Winner: O\n",
      "First move: ((1, 0), (1, 2)) Winner: O\n",
      "First move: ((1, 1), (0, 0)) Winner: O\n",
      "First move: ((1, 0), (2, 2)) Winner: X\n",
      "First move: ((1, 0), (2, 0)) Winner: O\n",
      "First move: ((1, 0), (2, 1)) Winner: O\n",
      "First move: ((1, 1), (0, 2)) Winner: O\n",
      "First move: ((1, 1), (1, 0)) Winner: O\n",
      "First move: ((1, 1), (0, 1)) Winner: O\n",
      "First move: ((1, 1), (1, 1)) Winner: O\n",
      "First move: ((1, 1), (2, 0)) Winner: O\n",
      "First move: ((1, 1), (1, 2)) Winner: O\n",
      "First move: ((1, 1), (2, 1)) Winner: O\n",
      "First move: ((1, 2), (0, 1)) Winner: O\n",
      "First move: ((1, 2), (0, 0)) Winner: O\n",
      "First move: ((1, 1), (2, 2)) Winner: O\n",
      "First move: ((1, 2), (0, 2)) Winner: O\n",
      "First move: ((1, 2), (1, 2)) Winner: X\n",
      "First move: ((1, 2), (1, 0)) Winner: O\n",
      "First move: ((1, 2), (1, 1)) Winner: O\n",
      "First move: ((1, 2), (2, 0)) Winner: O\n",
      "First move: ((1, 2), (2, 2)) Winner: O\n",
      "First move: ((1, 2), (2, 1)) Winner: O\n",
      "First move: ((2, 0), (0, 0)) Winner: O\n",
      "First move: ((2, 0), (0, 2)) Winner: O\n",
      "First move: ((2, 0), (0, 1)) Winner: O\n",
      "First move: ((2, 0), (1, 0)) Winner: O\n",
      "First move: ((2, 0), (1, 1)) Winner: X\n",
      "First move: ((2, 0), (2, 0)) Winner: O\n",
      "First move: ((2, 0), (1, 2)) Winner: O\n",
      "First move: ((2, 0), (2, 1)) Winner: O\n",
      "First move: ((2, 0), (2, 2)) Winner: O\n",
      "First move: ((2, 1), (0, 0)) Winner: O\n",
      "First move: ((2, 1), (0, 2)) Winner: O\n",
      "First move: ((2, 1), (0, 1)) Winner: X\n",
      "First move: ((2, 1), (1, 0)) Winner: O\n",
      "First move: ((2, 1), (1, 1)) Winner: O\n",
      "First move: ((2, 1), (1, 2)) Winner: O\n",
      "First move: ((2, 1), (2, 2)) Winner: O\n",
      "First move: ((2, 2), (0, 0)) Winner: O\n",
      "First move: ((2, 1), (2, 1)) Winner: O\n",
      "First move: ((2, 1), (2, 0)) Winner: Tie\n",
      "First move: ((2, 2), (0, 2)) Winner: O\n",
      "First move: ((2, 2), (1, 0)) Winner: O\n",
      "First move: ((2, 2), (0, 1)) Winner: O\n",
      "First move: ((2, 2), (1, 1)) Winner: X\n",
      "First move: ((2, 2), (1, 2)) Winner: O\n",
      "First move: ((2, 2), (2, 0)) Winner: O\n",
      "First move: ((2, 2), (2, 1)) Winner: O\n",
      "First move: ((2, 2), (2, 2)) Winner: O\n",
      "(9, 70)\n"
     ]
    }
   ],
   "source": [
    "e = UltimateBoardEvaluatorFactory.firstEvaluator()\n",
    "\n",
    "playerX = Player(e, True)\n",
    "playerO = Player(e, False)\n",
    "\n",
    "# playAManualGame(playerX)\n",
    "# playAGame(playerX, playerO, None, True)\n",
    "\n",
    "results = playAllFirstMovesAsync(playerX, playerO)\n",
    "print(results)"
   ]
  },
  {
   "cell_type": "code",
   "execution_count": 2,
   "metadata": {},
   "outputs": [
    {
     "name": "stdout",
     "output_type": "stream",
     "text": [
      "81\n"
     ]
    }
   ],
   "source": [
    "input_combinations = [((a, b), (c, d)) for a in range(3) for b in range(3) for c in range(3) for d in range(3)]\n",
    "print(len(input_combinations))"
   ]
  },
  {
   "cell_type": "code",
   "execution_count": null,
   "metadata": {},
   "outputs": [],
   "source": []
  }
 ],
 "metadata": {
  "kernelspec": {
   "display_name": "Python 3 (ipykernel)",
   "language": "python",
   "name": "python3"
  },
  "language_info": {
   "codemirror_mode": {
    "name": "ipython",
    "version": 3
   },
   "file_extension": ".py",
   "mimetype": "text/x-python",
   "name": "python",
   "nbconvert_exporter": "python",
   "pygments_lexer": "ipython3",
   "version": "3.9.6"
  }
 },
 "nbformat": 4,
 "nbformat_minor": 4
}
