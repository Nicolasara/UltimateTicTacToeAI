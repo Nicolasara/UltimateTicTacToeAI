{
 "cells": [
  {
   "cell_type": "code",
   "execution_count": null,
   "metadata": {},
   "outputs": [],
   "source": [
    "## hello!"
   ]
  },
  {
   "cell_type": "code",
   "execution_count": 1,
   "metadata": {},
   "outputs": [],
   "source": [
    "from matchRunner import *\n",
    "from player import *\n",
    "from ultimateTicTacToe.ultimateBoardEvaluator import *"
   ]
  },
  {
   "cell_type": "code",
   "execution_count": 2,
   "metadata": {},
   "outputs": [
    {
     "name": "stdout",
     "output_type": "stream",
     "text": [
      "PlayerType.O\n",
      "[[<CellState.EMPTY: 0> <CellState.EMPTY: 0> <CellState.EMPTY: 0>]\n",
      " [<CellState.EMPTY: 0> <CellState.EMPTY: 0> <CellState.EMPTY: 0>]\n",
      " [<CellState.EMPTY: 0> <CellState.EMPTY: 0> <CellState.EMPTY: 0>]]\n",
      "PlayerType.O\n",
      "[[<CellState.EMPTY: 0> <CellState.EMPTY: 0> <CellState.EMPTY: 0>]\n",
      " [<CellState.EMPTY: 0> <CellState.EMPTY: 0> <CellState.EMPTY: 0>]\n",
      " [<CellState.EMPTY: 0> <CellState.EMPTY: 0> <CellState.EMPTY: 0>]]\n",
      "PlayerType.O\n",
      "[[<CellState.EMPTY: 0> <CellState.EMPTY: 0> <CellState.EMPTY: 0>]\n",
      " [<CellState.EMPTY: 0> <CellState.EMPTY: 0> <CellState.EMPTY: 0>]\n",
      " [<CellState.EMPTY: 0> <CellState.EMPTY: 0> <CellState.EMPTY: 0>]]\n",
      "PlayerType.O\n",
      "[[<CellState.EMPTY: 0> <CellState.EMPTY: 0> <CellState.EMPTY: 0>]\n",
      " [<CellState.EMPTY: 0> <CellState.EMPTY: 0> <CellState.EMPTY: 0>]\n",
      " [<CellState.EMPTY: 0> <CellState.EMPTY: 0> <CellState.EMPTY: 0>]]\n",
      "PlayerType.O\n",
      "[[<CellState.EMPTY: 0> <CellState.EMPTY: 0> <CellState.EMPTY: 0>]\n",
      " [<CellState.EMPTY: 0> <CellState.EMPTY: 0> <CellState.EMPTY: 0>]\n",
      " [<CellState.EMPTY: 0> <CellState.EMPTY: 0> <CellState.EMPTY: 0>]]\n",
      "PlayerType.O\n",
      "[[<CellState.EMPTY: 0> <CellState.EMPTY: 0> <CellState.EMPTY: 0>]\n",
      " [<CellState.EMPTY: 0> <CellState.EMPTY: 0> <CellState.EMPTY: 0>]\n",
      " [<CellState.EMPTY: 0> <CellState.EMPTY: 0> <CellState.EMPTY: 0>]]\n",
      "PlayerType.O\n",
      "[[<CellState.EMPTY: 0> <CellState.EMPTY: 0> <CellState.EMPTY: 0>]\n",
      " [<CellState.EMPTY: 0> <CellState.EMPTY: 0> <CellState.EMPTY: 0>]\n",
      " [<CellState.EMPTY: 0> <CellState.EMPTY: 0> <CellState.EMPTY: 0>]]\n",
      "PlayerType.O\n",
      "[[<CellState.EMPTY: 0> <CellState.EMPTY: 0> <CellState.EMPTY: 0>]\n",
      " [<CellState.EMPTY: 0> <CellState.EMPTY: 0> <CellState.EMPTY: 0>]\n",
      " [<CellState.EMPTY: 0> <CellState.EMPTY: 0> <CellState.EMPTY: 0>]]\n",
      "PlayerType.O\n",
      "[[<CellState.EMPTY: 0> <CellState.EMPTY: 0> <CellState.EMPTY: 0>]\n",
      " [<CellState.EMPTY: 0> <CellState.EMPTY: 0> <CellState.EMPTY: 0>]\n",
      " [<CellState.EMPTY: 0> <CellState.EMPTY: 0> <CellState.EMPTY: 0>]]\n",
      "           ||           ||           \n",
      "           ||           ||           \n",
      "     O     ||     O     ||     O     \n",
      "           ||           ||           \n",
      "           ||           ||           \n",
      "===========||===========||===========\n",
      "           ||           ||           \n",
      "           ||           ||           \n",
      "     O     ||     O     ||     O     \n",
      "           ||           ||           \n",
      "           ||           ||           \n",
      "===========||===========||===========\n",
      "           ||           ||           \n",
      "           ||           ||           \n",
      "     O     ||     O     ||     O     \n",
      "           ||           ||           \n",
      "           ||           ||           \n",
      "\n",
      "has someone won:  True\n",
      "board full:  True\n",
      "game is over:  True\n",
      "has someone won:  True\n",
      "board full:  True\n",
      "Game over. Winner: O\n",
      "\n"
     ]
    },
    {
     "data": {
      "text/plain": [
       "<PlayerType.O: 'O'>"
      ]
     },
     "execution_count": 2,
     "metadata": {},
     "output_type": "execute_result"
    }
   ],
   "source": [
    "e = UltimateBoardEvaluatorFactory.firstEvaluator()\n",
    "\n",
    "playerX = Player(e, True)\n",
    "playerO = Player(e, False)\n",
    "\n",
    "playAGame(playerX, playerO, None, True)\n",
    "# playAManualGame(playerX)"
   ]
  },
  {
   "cell_type": "code",
   "execution_count": null,
   "metadata": {},
   "outputs": [],
   "source": []
  },
  {
   "cell_type": "code",
   "execution_count": null,
   "metadata": {},
   "outputs": [],
   "source": []
  }
 ],
 "metadata": {
  "kernelspec": {
   "display_name": "Python 3 (ipykernel)",
   "language": "python",
   "name": "python3"
  },
  "language_info": {
   "codemirror_mode": {
    "name": "ipython",
    "version": 3
   },
   "file_extension": ".py",
   "mimetype": "text/x-python",
   "name": "python",
   "nbconvert_exporter": "python",
   "pygments_lexer": "ipython3",
   "version": "3.9.6"
  }
 },
 "nbformat": 4,
 "nbformat_minor": 4
}
